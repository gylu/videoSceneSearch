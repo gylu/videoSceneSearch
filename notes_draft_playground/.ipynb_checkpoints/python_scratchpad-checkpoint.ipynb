{
 "cells": [
  {
   "cell_type": "code",
   "execution_count": null,
   "metadata": {
    "collapsed": false
   },
   "outputs": [],
   "source": [
    "import numpy as np\n",
    "import matplotlib.pyplot as plt\n",
    "import math\n",
    "import pylab\n",
    "\n",
    "vectorInt=[]\n",
    "vectorLog=[]\n",
    "with open(\"example_frame_hashes.txt\", \"r\") as infile:\n",
    "    for line in infile:\n",
    "        hashcontent = line.split(\",\")[1]\n",
    "        hashStr = hashcontent.split(\": \")[1]\n",
    "        x=int(hashStr,16)\n",
    "        vectorInt.append(x)\n",
    "        vectorLog.append(math.log(x+1))\n",
    "        #print(x)\n",
    "        #intValue=np.fromstring(hashStr,dtype=np.uint64)\n",
    "        #intValue=np.uint64(intValue[0])\n",
    "        #print(hashStr, intValue,x)\n",
    "        \n",
    "#plt.plot(vectorLog)\n",
    "#pylab.show()\n",
    "\n",
    "plt.hist(vectorInt, bins=50)\n",
    "pylab.show()"
   ]
  },
  {
   "cell_type": "code",
   "execution_count": null,
   "metadata": {
    "collapsed": false
   },
   "outputs": [],
   "source": []
  },
  {
   "cell_type": "code",
   "execution_count": 8,
   "metadata": {
    "collapsed": false
   },
   "outputs": [
    {
     "data": {
      "text/plain": [
       "124.549955952162"
      ]
     },
     "execution_count": 8,
     "metadata": {},
     "output_type": "execute_result"
    }
   ],
   "source": [
    "math.log(1234123412341234123412343456345634563456345123412341234)"
   ]
  },
  {
   "cell_type": "code",
   "execution_count": null,
   "metadata": {
    "collapsed": true
   },
   "outputs": [],
   "source": []
  }
 ],
 "metadata": {
  "kernelspec": {
   "display_name": "Python 3",
   "language": "python",
   "name": "python3"
  },
  "language_info": {
   "codemirror_mode": {
    "name": "ipython",
    "version": 3
   },
   "file_extension": ".py",
   "mimetype": "text/x-python",
   "name": "python",
   "nbconvert_exporter": "python",
   "pygments_lexer": "ipython3",
   "version": "3.5.2"
  }
 },
 "nbformat": 4,
 "nbformat_minor": 0
}
